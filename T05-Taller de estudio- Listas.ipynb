{
  "cells": [
    {
      "cell_type": "markdown",
      "metadata": {
        "id": "02XIYM9kyUYL"
      },
      "source": [
        "1)\tRealizar un programa que genere y almacene en una lista N números \n",
        "aleatorios comprendidos entre 1 y 100, posteriormente, los ordene de menor a mayor y los muestre por pantalla."
      ]
    },
    {
      "cell_type": "code",
      "execution_count": 40,
      "metadata": {
        "id": "XAfmnyNiyTyo"
      },
      "outputs": [
        {
          "name": "stdout",
          "output_type": "stream",
          "text": [
            "estos son los numeros aleatorios en orden \n",
            "[3, 10, 14, 17, 25, 32, 36, 37, 47, 48, 50, 51, 55, 71, 71, 80, 86, 87, 90, 91]\n"
          ]
        }
      ],
      "source": [
        "import random as rd\n",
        "n=int(input(\"ingrese a cantidad de numeros aleatorios  que quiere generar : \"))\n",
        "\n",
        "lista=[rd.randint(1,100) for _  in range(n)]\n",
        "\n",
        "listaOrdenada=sorted(lista)\n",
        "\n",
        "print(\"estos son los numeros aleatorios en orden \")\n",
        "print(listaOrdenada)"
      ]
    },
    {
      "cell_type": "markdown",
      "metadata": {
        "id": "NKoUOE11ycPH"
      },
      "source": [
        "2)\tRealizar un programa que inicialice una lista con 50 valores aleatorios (del 1 al 1000) y posteriormente muestre en pantalla cada elemento de la lista, la lista ordenada, el número menor y el número mayor, el cuadrado y el cubo de cada elemento."
      ]
    },
    {
      "cell_type": "code",
      "execution_count": 44,
      "metadata": {
        "id": "VbmTjV1Eycld"
      },
      "outputs": [
        {
          "name": "stdout",
          "output_type": "stream",
          "text": [
            "[35, 59, 68, 72, 76, 83, 84, 85, 92, 142, 145, 157, 160, 162, 182, 201, 219, 266, 285, 319, 337, 401, 403, 459, 480, 512, 532, 551, 564, 573, 592, 642, 653, 668, 680, 692, 702, 703, 707, 780, 812, 832, 839, 843, 868, 871, 880, 903, 954, 985]\n",
            "\n",
            " el numero Mayor es 985\n",
            "\n",
            " el numero Menor es 35\n",
            "\n",
            " numero :35,el cuadrado es 1225 y el cubo es 42875 \n",
            "\n",
            " numero :59,el cuadrado es 3481 y el cubo es 205379 \n",
            "\n",
            " numero :68,el cuadrado es 4624 y el cubo es 314432 \n",
            "\n",
            " numero :72,el cuadrado es 5184 y el cubo es 373248 \n",
            "\n",
            " numero :76,el cuadrado es 5776 y el cubo es 438976 \n",
            "\n",
            " numero :83,el cuadrado es 6889 y el cubo es 571787 \n",
            "\n",
            " numero :84,el cuadrado es 7056 y el cubo es 592704 \n",
            "\n",
            " numero :85,el cuadrado es 7225 y el cubo es 614125 \n",
            "\n",
            " numero :92,el cuadrado es 8464 y el cubo es 778688 \n",
            "\n",
            " numero :142,el cuadrado es 20164 y el cubo es 2863288 \n",
            "\n",
            " numero :145,el cuadrado es 21025 y el cubo es 3048625 \n",
            "\n",
            " numero :157,el cuadrado es 24649 y el cubo es 3869893 \n",
            "\n",
            " numero :160,el cuadrado es 25600 y el cubo es 4096000 \n",
            "\n",
            " numero :162,el cuadrado es 26244 y el cubo es 4251528 \n",
            "\n",
            " numero :182,el cuadrado es 33124 y el cubo es 6028568 \n",
            "\n",
            " numero :201,el cuadrado es 40401 y el cubo es 8120601 \n",
            "\n",
            " numero :219,el cuadrado es 47961 y el cubo es 10503459 \n",
            "\n",
            " numero :266,el cuadrado es 70756 y el cubo es 18821096 \n",
            "\n",
            " numero :285,el cuadrado es 81225 y el cubo es 23149125 \n",
            "\n",
            " numero :319,el cuadrado es 101761 y el cubo es 32461759 \n",
            "\n",
            " numero :337,el cuadrado es 113569 y el cubo es 38272753 \n",
            "\n",
            " numero :401,el cuadrado es 160801 y el cubo es 64481201 \n",
            "\n",
            " numero :403,el cuadrado es 162409 y el cubo es 65450827 \n",
            "\n",
            " numero :459,el cuadrado es 210681 y el cubo es 96702579 \n",
            "\n",
            " numero :480,el cuadrado es 230400 y el cubo es 110592000 \n",
            "\n",
            " numero :512,el cuadrado es 262144 y el cubo es 134217728 \n",
            "\n",
            " numero :532,el cuadrado es 283024 y el cubo es 150568768 \n",
            "\n",
            " numero :551,el cuadrado es 303601 y el cubo es 167284151 \n",
            "\n",
            " numero :564,el cuadrado es 318096 y el cubo es 179406144 \n",
            "\n",
            " numero :573,el cuadrado es 328329 y el cubo es 188132517 \n",
            "\n",
            " numero :592,el cuadrado es 350464 y el cubo es 207474688 \n",
            "\n",
            " numero :642,el cuadrado es 412164 y el cubo es 264609288 \n",
            "\n",
            " numero :653,el cuadrado es 426409 y el cubo es 278445077 \n",
            "\n",
            " numero :668,el cuadrado es 446224 y el cubo es 298077632 \n",
            "\n",
            " numero :680,el cuadrado es 462400 y el cubo es 314432000 \n",
            "\n",
            " numero :692,el cuadrado es 478864 y el cubo es 331373888 \n",
            "\n",
            " numero :702,el cuadrado es 492804 y el cubo es 345948408 \n",
            "\n",
            " numero :703,el cuadrado es 494209 y el cubo es 347428927 \n",
            "\n",
            " numero :707,el cuadrado es 499849 y el cubo es 353393243 \n",
            "\n",
            " numero :780,el cuadrado es 608400 y el cubo es 474552000 \n",
            "\n",
            " numero :812,el cuadrado es 659344 y el cubo es 535387328 \n",
            "\n",
            " numero :832,el cuadrado es 692224 y el cubo es 575930368 \n",
            "\n",
            " numero :839,el cuadrado es 703921 y el cubo es 590589719 \n",
            "\n",
            " numero :843,el cuadrado es 710649 y el cubo es 599077107 \n",
            "\n",
            " numero :868,el cuadrado es 753424 y el cubo es 653972032 \n",
            "\n",
            " numero :871,el cuadrado es 758641 y el cubo es 660776311 \n",
            "\n",
            " numero :880,el cuadrado es 774400 y el cubo es 681472000 \n",
            "\n",
            " numero :903,el cuadrado es 815409 y el cubo es 736314327 \n",
            "\n",
            " numero :954,el cuadrado es 910116 y el cubo es 868250664 \n",
            "\n",
            " numero :985,el cuadrado es 970225 y el cubo es 955671625 \n"
          ]
        }
      ],
      "source": [
        "\n",
        "lista=[rd.randint(1,1000) for _ in range(50)]\n",
        "listaOrdenada=sorted(lista)\n",
        "\n",
        "print(listaOrdenada)\n",
        "\n",
        "menor=min(listaOrdenada)\n",
        "mayor=max(listaOrdenada)\n",
        "print(f\"\\n el numero Mayor es {mayor}\")\n",
        "print(f\"\\n el numero Menor es {menor}\")\n",
        "for num in listaOrdenada:\n",
        "    print(f\"\\n numero :{num},el cuadrado es {num**2} y el cubo es {num**3} \")\n",
        "\n",
        "\n",
        "\n",
        "\n",
        "\n",
        "\n",
        "\n"
      ]
    },
    {
      "cell_type": "markdown",
      "metadata": {
        "id": "kPNNfh3ayf2K"
      },
      "source": [
        "3)\tRealizar un programa que cree una lista y se inicialice con 10 cadenas de caracteres leídas por teclado relacionadas con animales. Seguidamente, copiar los elementos de la lista en otra lista, pero ordenadas alfabéticamente y muestra sus elementos por la pantalla."
      ]
    },
    {
      "cell_type": "code",
      "execution_count": 45,
      "metadata": {
        "id": "fZ8BrbY-yiQy"
      },
      "outputs": [
        {
          "name": "stdout",
          "output_type": "stream",
          "text": [
            "['calvo', 'carlos', 'cristian', 'dodo', 'lobo', 'loro', 'pato', 'perro', 'pollo', 'vaca']\n"
          ]
        }
      ],
      "source": [
        "animales=[]\n",
        "\n",
        "for i in range(10):\n",
        "    animal=input(f\"ingrese el Nombre de un animal: {i+1}/10\")\n",
        "    animales.append(animal)\n",
        "animalesorden=sorted(animales)\n",
        "print(animalesorden)"
      ]
    },
    {
      "cell_type": "markdown",
      "metadata": {
        "id": "O5v2DT8vyiqp"
      },
      "source": [
        "4)\tRealizar un programa que lea por teclado 7 materias con sus respectivas notas (comprendidas entre 1 a 5). Luego, el programa debe mostrar el promedio de las notas, la nota media, la nota más alta y la nota más baja.\n"
      ]
    },
    {
      "cell_type": "code",
      "execution_count": 46,
      "metadata": {
        "id": "vafjhDbLyklo"
      },
      "outputs": [
        {
          "name": "stdout",
          "output_type": "stream",
          "text": [
            "El promedio de las notas es 3.27,La Media es 3.3, la nota mas alta es 5.0,la nota mas baja es 0.4\n"
          ]
        }
      ],
      "source": [
        "materias=[]\n",
        "for i in range(7):\n",
        "    notas=float(input(f\"Ingrese las notas de las materias : {i+1}/7 (entre 1 y 5)\"))\n",
        "    materias.append(notas)\n",
        " \n",
        "while  notas >5:\n",
        "          nota = float(input(\"Nota inválida. Por favor, ingrese una nota entre 1 y 5: \"))\n",
        "        \n",
        "promedio=sum(materias)/len(materias)\n",
        "notaMedia=sorted(materias)[len(materias)//2]\n",
        "notaAlta=max(materias)\n",
        "notaBaja=min(materias)\n",
        "\n",
        "print(f\"El promedio de las notas es {promedio:.2f},La Media es {notaMedia}, la nota mas alta es {notaAlta},la nota mas baja es {notaBaja}\")\n"
      ]
    },
    {
      "cell_type": "markdown",
      "metadata": {
        "id": "TmpbANhKyk7I"
      },
      "source": [
        "5)\tGenerar un programa que almacene en listas los nombres y las edades de cada uno de los alumnos de un curso. El programa debe mostrar: los nombres de los alumnos mayores de edad, el promedio de las edades, el estudiante de mayor edad y el estudiante de menos edad.\n"
      ]
    },
    {
      "cell_type": "code",
      "execution_count": 49,
      "metadata": {
        "id": "iJXkmakNym8K"
      },
      "outputs": [
        {
          "name": "stdout",
          "output_type": "stream",
          "text": [
            "juan es mayor de edad\n",
            "Brua}nal es mayor de edad\n",
            "el promedio de edad de tus estudiantes es 16.00\n",
            "Estudiante de mayor edad: Brua}nal (19 años)\n",
            "Estudiante de menor edad: pedro (12 años)\n"
          ]
        }
      ],
      "source": [
        "nombres=[]\n",
        "edades=[]\n",
        "while True:\n",
        "    nombre=input(\"ingrese los nombres de los estudiantes (o presione Ent para terminar): \")\n",
        "    if nombre== \"\":\n",
        "        break\n",
        "    edad=int(input(f\"Ingrese la edad de {nombre} \"))\n",
        "    nombres.append(nombre)\n",
        "    edades.append(edad)\n",
        "\n",
        "\n",
        "promedioEdades=sum(edades)/len(edades)\n",
        "MayorEdad=edades.index(max(edades))\n",
        "menorEdad=edades.index(min(edades))\n",
        "\n",
        "for i, edad in enumerate(edades):\n",
        "    if edad >=18:\n",
        "        \n",
        "        print(f\"{nombres[i]} es mayor de edad\")\n",
        "print(f\"el promedio de edad de tus estudiantes es {promedioEdades:.2f}\")\n",
        "print(f\"Estudiante de mayor edad: {nombres[MayorEdad]} ({edades[MayorEdad]} años)\")\n",
        "print(f\"Estudiante de menor edad: {nombres[menorEdad]} ({edades[menorEdad]} años)\")\n"
      ]
    },
    {
      "cell_type": "markdown",
      "metadata": {
        "id": "-f2gQ0CKynRn"
      },
      "source": [
        "6)\tGenerada una lista con n números enteros y un entero k, escribir programa que:\n",
        "\n",
        "a)\tDevuelva tres listas, una con los menores, otra con los mayores y otra con los iguales a k.\n",
        "\n",
        "b)\tDevuelva una lista con aquellos que son múltiplos de k, para saber si un número es múltiplo se debe utilizar el módulo (%)\n"
      ]
    },
    {
      "cell_type": "code",
      "execution_count": 69,
      "metadata": {
        "id": "uhmpnCfEypPB"
      },
      "outputs": [
        {
          "name": "stdout",
          "output_type": "stream",
          "text": [
            "la lista de mayores son: [12, 16],la lista de menores son: [1], los iguales son: [4] y la lista de multiplos[4, 12, 16]\n"
          ]
        }
      ],
      "source": [
        "n=int(input(\"ingrese el Valor N :\"))\n",
        "numeros=[]\n",
        "for i in range (n):\n",
        "    number=int(input(f\"ingrese el numero {i+1}\"))\n",
        "    numeros.append(number)\n",
        "k=int(input(\"ingrese el Valor K :\"))\n",
        "\n",
        "menor=[]\n",
        "mayor=[]\n",
        "iguales=[]\n",
        "\n",
        "for num in numeros:\n",
        "    if num > k:\n",
        "        mayor.append(num)\n",
        "    elif num < k:\n",
        "        menor.append(num)\n",
        "    else:\n",
        "        iguales.append(num)\n",
        "multiplos=[]\n",
        "\n",
        "for num in numeros:\n",
        "    if num % k == 0:\n",
        "        multiplos.append(num)\n",
        "    \n",
        "print(f\"la lista de mayores son: {mayor},la lista de menores son: {menor}, los iguales son: {iguales} y la lista de multiplos{multiplos}\")\n",
        "\n",
        "\n"
      ]
    },
    {
      "cell_type": "markdown",
      "metadata": {
        "id": "e5YDb82OyplJ"
      },
      "source": [
        "7)\tDada una lista de números enteros, escribir un programa que:\n",
        "\n",
        "a)\tDevuelva una lista con todos los números primos de la lista.\n",
        "\n",
        "b)\tDevuelva la sumatoria y el promedio de los valores.\n",
        "\n",
        "c)\tDevuelva una lista con la factorial de cada uno de esos números.\n"
      ]
    },
    {
      "cell_type": "code",
      "execution_count": 77,
      "metadata": {
        "id": "7e_mhyQhyriW"
      },
      "outputs": [
        {
          "name": "stdout",
          "output_type": "stream",
          "text": [
            "Números primos: [2, 3, 7]\n",
            "Suma: 54\n",
            "Promedio: 6.0\n",
            "Factoriales: [2, 6, 24, 5040, 265252859812191058636308480000000, 1405006117752879898543142606244511569936384000000000, 1307674368000]\n"
          ]
        }
      ],
      "source": [
        "import math as mt \n",
        "ne=[2,3,4,7,30,42,15]\n",
        "primos=[]\n",
        "for n in ne:\n",
        "    if n > 1:\n",
        "        es_primo=True\n",
        "        for i in range(2,int(n**0.5 )+1):\n",
        "            if n % i==0:\n",
        "                es_primo=False\n",
        "                break\n",
        "        if es_primo:\n",
        "            primos.append(n)\n",
        "print(\"Números primos:\", primos)\n",
        "\n",
        "suma = 0\n",
        "for n in lista:\n",
        "    suma += n\n",
        "\n",
        "promedio = suma / len(lista) if lista else 0\n",
        "\n",
        "print(\"Suma:\", suma)\n",
        "print(\"Promedio:\", promedio)\n",
        "factoriales=[]\n",
        "for n in ne:\n",
        "    factoriales.append(mt.factorial(n))\n",
        "print(\"Factoriales:\", factoriales)\n"
      ]
    },
    {
      "cell_type": "markdown",
      "metadata": {
        "id": "BSux5kPRyr27"
      },
      "source": [
        "8)\tQueremos guardar la temperatura mínima y máxima de 5 días. Realiza un programa que de la siguiente información:\n",
        "\n",
        "a)\tLa temperatura media de cada día\n",
        "\n",
        "b)\tLos días con menos temperatura\n",
        "\n",
        "c)\tSe lee una temperatura por teclado y se muestran los días cuya temperatura máxima coincide con ella. si no existe ningún día se muestra un mensaje de información.\n"
      ]
    },
    {
      "cell_type": "code",
      "execution_count": 93,
      "metadata": {
        "id": "LB0923gUytuW"
      },
      "outputs": [
        {
          "name": "stdout",
          "output_type": "stream",
          "text": [
            "la temperatura media es 31.0 : \n",
            "la temperatura maxima es 35 : \n",
            "la temperatura minima es : 20  \n",
            "los dias que coinciden son : ['viernes'] \n"
          ]
        }
      ],
      "source": [
        "\n",
        "temp2=[]\n",
        "dias=[]\n",
        "temp=[]\n",
        "for i in range(5):\n",
        "    diasTemp=input(f\"ingrese el dia que quiere registrar la temperatura {i+1} /5\")\n",
        "    if diasTemp == \"\":\n",
        "        break\n",
        "    temperaturas=int(input(f\"ingrese la temperatura de {diasTemp}\"))\n",
        "    dias.append(diasTemp)\n",
        "    temp.append(temperaturas)\n",
        "\n",
        "        \n",
        "temperaturamin=(min(temp))\n",
        "temperaturamax=(max(temp))\n",
        "temperaturamd=sum(temp)/len(temp)\n",
        "comparar=int(input(f\"escribe la temperatura que quieres comparar\"))\n",
        "for i, (temperaturamax) in enumerate(temp):\n",
        "    if temperaturamax == comparar:\n",
        "        temp2.append(dias[i])\n",
        "\n",
        "\n",
        "print(f\"la temperatura media es {temperaturamd} : \")\n",
        "print(f\"la temperatura maxima es {temperaturamax} : \")\n",
        "print(f\"la temperatura minima es : {temperaturamin}  \")\n",
        "print(f\"los dias que coinciden son : {temp2} \")\n",
        "\n",
        "\n"
      ]
    },
    {
      "cell_type": "markdown",
      "metadata": {
        "id": "6C57yZGJyuB2"
      },
      "source": [
        "9)\tDe una empresa de transporte se requiere guardar el nombre de los conductores y los kilómetros que conducen cada día de la semana. Para guardar esta información se van a utilizar dos listas:\n",
        "\n",
        "•\tNombre: Lista para guardar los nombres de los conductores.\n",
        "\n",
        "•\tkms: Tabla para guardar los kilómetros que realizan cada día de la semana.\n",
        "\n",
        "Se requiere generar una nueva lista (\"total_kms\") con los kilómetros totales que realiza cada conductor. Al finalizar se muestra la lista con los nombres de conductores y los kilómetros que ha realizado.\n"
      ]
    },
    {
      "cell_type": "code",
      "execution_count": 141,
      "metadata": {
        "id": "jKVKQZbvyvoF"
      },
      "outputs": [
        {
          "name": "stdout",
          "output_type": "stream",
          "text": [
            "\n",
            "El conductor juan recorrió estos kilómetros por día: [1, 1, 1, 1, 1, 1, 1, 1, 1, 1, 1, 1, 1, 1]\n",
            "Y en total recorrió: 14 kilómetros.\n",
            "\n",
            "El conductor pedro recorrió estos kilómetros por día: [1, 1, 1, 1, 1, 1, 1, 1, 1, 1, 1, 1, 1, 1]\n",
            "Y en total recorrió: 14 kilómetros.\n",
            "el conductor \n",
            "['juan', 'pedro'] recorrio estos kilometros [1, 1, 1, 1, 1, 1, 1, 1, 1, 1, 1, 1, 1, 1] y en total fueron 14\n"
          ]
        }
      ],
      "source": [
        "nombresDePanzones=[]\n",
        "kms=[]\n",
        "total_kms=[]\n",
        "kmXconductor=[]\n",
        "\n",
        "conductores=int(input(\"cuantos conductores quieres registar: \"))\n",
        "\n",
        "for i in range(conductores):\n",
        "    nombres=input(F\"ingresa los nombres de cada uno  : \")\n",
        "    if nombres == \"\":\n",
        "        break\n",
        "    for dia in range(7):\n",
        "        kilometro=int(input(f\"ingrese los kilometros de el dia, {dia+1} para {nombres}\"))\n",
        "        kms.append(kilometro)\n",
        "        total_kms=sum(kms)\n",
        "    nombresDePanzones.append(nombres)\n",
        "    kmXconductor.append(kms)\n",
        "for i, nombre in enumerate(nombresDePanzones):\n",
        "    kms = kmXconductor[i]\n",
        "    total_kms = sum(kms)\n",
        "    print(f\"\\nEl conductor {nombre} recorrió estos kilómetros por día: {kms}\")\n",
        "    print(f\"Y en total recorrió: {total_kms} kilómetros.\")\n"
      ]
    },
    {
      "cell_type": "markdown",
      "metadata": {
        "id": "46edPYAEywA2"
      },
      "source": [
        "10)\tGenerar un programa en Python que resuelva la siguiente serie geométrica:\n",
        " ![image.png](data:image/png;base64,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)\n",
        " \n",
        "Una serie geométrica es aquella en la que cada término se obtiene multiplicando el anterior por una constante, llamada razón r. En este ejemplo, la razón r = ½.\n"
      ]
    },
    {
      "cell_type": "code",
      "execution_count": 142,
      "metadata": {
        "id": "-Y0a8joiyz9e"
      },
      "outputs": [
        {
          "name": "stdout",
          "output_type": "stream",
          "text": [
            "La suma de la serie geométrica infinita es: 2.0\n"
          ]
        }
      ],
      "source": [
        "\n",
        "a = 1  \n",
        "r = 1/2  \n",
        "\n",
        "\n",
        "S = a / (1 - r)\n",
        "\n",
        "\n",
        "print(f\"La suma de la serie geométrica infinita es: {S}\")"
      ]
    }
  ],
  "metadata": {
    "colab": {
      "provenance": []
    },
    "kernelspec": {
      "display_name": "Python 3",
      "name": "python3"
    },
    "language_info": {
      "codemirror_mode": {
        "name": "ipython",
        "version": 3
      },
      "file_extension": ".py",
      "mimetype": "text/x-python",
      "name": "python",
      "nbconvert_exporter": "python",
      "pygments_lexer": "ipython3",
      "version": "3.12.4"
    }
  },
  "nbformat": 4,
  "nbformat_minor": 0
}
